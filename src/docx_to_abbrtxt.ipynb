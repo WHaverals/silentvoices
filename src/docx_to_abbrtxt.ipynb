{
 "cells": [
  {
   "cell_type": "code",
   "execution_count": 15,
   "metadata": {},
   "outputs": [
    {
     "name": "stdout",
     "output_type": "stream",
     "text": [
      "Collecting python-docx\n",
      "  Downloading python-docx-0.8.11.tar.gz (5.6 MB)\n",
      "\u001b[K     |████████████████████████████████| 5.6 MB 2.0 MB/s eta 0:00:01\n",
      "\u001b[?25hRequirement already satisfied: lxml>=2.3.2 in /Users/whaverals/opt/anaconda3/lib/python3.8/site-packages (from python-docx) (4.6.1)\n",
      "Building wheels for collected packages: python-docx\n",
      "  Building wheel for python-docx (setup.py) ... \u001b[?25ldone\n",
      "\u001b[?25h  Created wheel for python-docx: filename=python_docx-0.8.11-py3-none-any.whl size=184601 sha256=0b814ac54f46a47908362d288ba712379865d2266a78744ebc7cc9edf6393c27\n",
      "  Stored in directory: /Users/whaverals/Library/Caches/pip/wheels/32/b8/b2/c4c2b95765e615fe139b0b17b5ea7c0e1b6519b0a9ec8fb34d\n",
      "Successfully built python-docx\n",
      "Installing collected packages: python-docx\n",
      "Successfully installed python-docx-0.8.11\n"
     ]
    }
   ],
   "source": [
    "!pip install python-docx"
   ]
  },
  {
   "cell_type": "code",
   "execution_count": 10,
   "metadata": {},
   "outputs": [
    {
     "name": "stdout",
     "output_type": "stream",
     "text": [
      "dat bloet ih■es■u chr■ist■i. Ende haere vleesch sal dogen pine om dat selve Daer hi om dogede. En̄ haer mīne sal dienen en̄ louen om dat selve. Nu wet voerwaer Maer iubileerde god die vader ye van diēste die men hem dede Soe iubileerde hi van desen En̄ al metredenen. Maer ic soude mi herde node werpen in auonturen om iubileeren. Maerdoch geuoelic wale Dat onse here in auonturē zijn deene om iubileren En̄ om ialozie. Maer mijn redene en willic niet verhelen Maer ic wille van hare zijn berecht met waerheit En̄ met getrouwer mīnen in nuwer nuchterenheit En̄ so wesende dat hare wale zijn onderdaen alle die bernaie des hemels. Ic hebbe mine tranē gescenct En̄ mine begerte geoffert En̄ mine mīne zueket Dat selve dat ulieue sone dede. Ic weet wale zuete here dat u sone starf en̄ nēmermeer niemē in die stadt sterven en sal Nochdie zielen werpen uter hellen. Al des en suekt niet Maer ic zueke die vernuwecheit Die u sone doet in erterike. Wildi mi dat doen ic sal u cussen dan gerne met een den zuetsten cussene Dat ye geoefent wert. in uwen rike sijn geoefent uwe goede instadecheit Ende sonder wassinge van lone. Wāt si hebben ontfaen Die ewecheit Ende dat goet dat si hebben selē. Noch die gene die in purgatorien zijn hare pine en meeret nēmermeer en ghenen loen. Dese en selen u niet geraken an die zide D■aer■ gi u selven mede gehulpen niene moget Men moeste in u naeste gerakē. D■aer■ ane en meeredde nemmermeer en genen loen No sine bidden daer voer ons. Si begeren meer dʼ onser bede dan wy die hare. Hier ōme es beter wale te leuene Dan te begherne te stervene. Waer iegen en mach hem god niet gehulpē Dats dat hi ons hem selven heeft gegeuen te verwinnene inwassinghen van lone die en hebben die van purgatorien no die van paradyse M■aer■ die hier wale leuen. Wie mach mi dan hier mede berespen Dat ic niene wille sterven Noch mine redene leggen in auonturen Alse die gene die slapē in zuetheit om hem te gesterkene. Ay nēmer en moet connen gescien selke bloetheit. Alsoe en dede niet de sone gods in sinen tiden En̄ also en sal hi niet doen Die met hem wilt doenwant om dat begherde de zuete vader ons cussen Die sine redene leide in auonturē. Als hi die ziele maecte van soe hoger werdecheit Hine beriets heme niet ocht hijt niet en hadde gedaen sonder raet En̄ sine redene ghelegt in auonturen. Wie soude hem dat hebben dorren raden Dat hi dat Dat hi selve was gaf te quellene. Dat en haddic hē niet geraden Maer nu eest so wale na mine genuechte. Maer diē enech wille cussen soe en soude hē niet berouwē Dat hi den man heeft gemaect. Maar ic hebbe hope dat ict hem geuen sal. Maer haddic doch soe veel geweēt Dat ic hadde gemaect wasschinghe metten bloede gods Ende ic ware beruert in ontfermecheiden In den tide alse hi es comen ten outare So dat die gene die in gode zijn wassende zijn in gode. En̄ ic wille gaen binnen dien tide te sinen vader Ende ic getroeste mi wale an heme sider meer dat hi es comē ten outare. En̄ dan die begerte vanden heilegē gerenen hebben zijn goetheit Dat hi sal doen mine bede. En̄ ochtic hē soe vele betrouwe dat sal doen mine bede En̄ hi mi bīnen desen sent te sinen vader Dien heeft noch gisteren noch heden En̄ ic heme bringe gisteren ende hedē En̄ margen ocht hi wille Daer mijns ontbeiden. Maer dat mocht mi wale gescien eer ic voer hē werde getoent Dat hi eer mijn cussen name. Dan seggic te hē alsic daer benO zuete here gheldi ons also wale na onsen rechte alse uwe lieue sone na den sinen ic soudu cussen. Sijn rechtes Dat die zielen Die zijn sonder hoeftzonde deilen an sijn bloet En̄ daer mede enege ic minen geest En̄ die willic cussen. En̄ ochtu mi wilts cussen soe doet dat bloet van mijnre herten Ende die pine mijns lichamen Ende die tranen miere ogen vrucht bringen in allen goede. En̄ dan moegdi mi cussen. Oetmoet es die doget Daer gi niet bi ontseggen en moget. Nu saelt scinen hoe vele duut begert heues. Ay he■r■e uwe sone es noch ten outare En̄ hi sende mi hier En̄ ic geloefde heme Dat ic heme senden soude ghisteren heden en̄ marghen. O zuete here ic brachte u heden van hē vernuutheit Die noch mijns ontbeit ten outare vrucht bringende in allen goede Ende te dien lichtekene Dat ic in zueter geuoelnesse custe heden uwen sone En̄ was wel na in ommacht vā mīnen Ende was wel na doot in siere mīnen. Maer gi wet wale dat ic mi niet en liet nemen mine redene En̄ dat es oec bi uwen rade. Ay here om alle dit doet dat ic beghere Ende vervulle mine gelofte Ende laet mi bringē minen Jhesum. En wetstu niet wale Dat ic ware doot van mīnen En hadde redene gedaen. O wy he■r■e hoe gedoechdi dat Dat ic dʼ verdo■r■re vor u anscijn. Aldus en dede niet u lieue sone. Maer mine trane waren geselt met sinen bloede Ende ic soech die zuetheit die sine pine hadde verdient. Mi berouwet wel na dat ic hier comen ben. Ay gewaerleke ic sal sterven ochte ic en ga niet henen sondervrocht. Het ware zuete here groet lachtʼ ghingic ydel van dus grotē houe Ende ic hier quam soe vol sceen ne haddijs niet ghemedert. Ende u sone so grote eere op erterike doet om dat En̄ om die ere zijns bloeds. En̄ openbare dine macht. Ende om te verhogene dine ontfarmecheit Soe zade mine ziele Ende mijn herteEnde doch dat ic ane di zoeke. Du wets dat wel hoe mi es Dat ict niet en can tewarde bringen Als ict begere. M■aer■ ic en wille sterven Noch ic en wille leuen Noch ic en wille sterven om ghisteren Dat ic bringen soude. So werpt die zielen Die in onthopenessen zijn daer ute Ende om heden die zondaren uut haren zondenSo datse hem van der genaden gods niet en onthopen. Ende om margen dat trouwe mi segt dat werde voldaen. Maer ic sal bringen eer minen zuetē vrient Dese boodscap eer ic u cussen sal Want ic en mach sonder heme selc cussen niet georlouen. Daer ōme du gaefsten mi tenē brudegoem Ende ic en wille heme oec en gene ontrouwe doen. En̄ hi es noch ten outare ende beidt mijns daer En̄ ic sal met heme hier weder comen Ende doen bi sinen rade En̄ wille mijn recht in mīnen behouden tegen di. Ja al makes du ons selc du en mogets niet besaken. Vergoudē es onse tol Ende onse behoudenesse es ons gegevē Ende icben hier met minen tseise. Dat wet wale here ic en mach niet durē inne ware geheenecht met uwen sone. Dat du mi naems ouer heme Ende heme ouer mi met enen wesene sonder wesē Dan soudic mijn cussen ghevē dat ic geloeft hebbe. O here de pine uwes soens heuet gemaect die behoudenesse Ende uwe cussen ende tsine es alle tijt gestadech ende eweleec. Ende ic en ben noch niet doot. Daer omme en es dat mine noch niet gestadeleke En zij metten bloede ih■es■u uus zoens ouermids dat moegdi mi cussen. Ay zuete here dicke seggic Dat mijn bloet ende mine trane Ende mine begerte ende dat bloet ons heren so doet die zonden van den zondaren Ende vandē zielen die ic coes Ende die du makes. Aldus hebbic vor mīne onthouden mine redene Die mine reghele es Ende die mi leert wat ic doen sal Ende hoe ic sal met gerechter mīnen leuen. Ay dit voldoet mi want ghi sijt sculdech al goet te doene. Hier sidi goet te ontghinnene Dat ghi seidt het ware u ene genuechte te sine metten zonen der mānen. Dat es alsi u hebben geraect ane die zide dʼ gi u selven niet gehulpē en moget. Here mi du■n■ct dicke dat Dat bloet uus zoens wert beruert in ontfermecheiden vandʼ ernstecheit mijns hertē om te versuenene Die zielen Ende te hulpene utē sonden dattu selve begers. En̄ es dan dattuut does Na die menecheit mijnre begerten Dan en es geen cussen edelre bi di de doget der scrifturen ouer een draecht hem daer mede Ende met alleden genen die wegen willen metten sone kint gods. Here in den hemel zijn de zielen geuoeget ane di Ende oec in groeter enechᵗ deene ane andere. Dese cussen di te rechte. Ende alle die zielen die sijn sonder hoeftzondē Die cussen. En̄ alle die zielen daer ic goet ane geloue gheuoele ende goet in houdende ben Ende beghere hare behoudenesse Die cusse ic daer si sijn geheenecht met di.Daer eneghen si hen met mi Ende daer si hem eneghen alre meest met di Daer custu mi meest. Ende daer wy twee u cussen behaecht u bat dan een allene. Ochtic dan bē worden in behaechenessen Hier te geuene hebbic niet dan hen behaecht. Dan hebbic goet behagen en̄ goet cussen alse ickene cusse en̄ hen behage En̄ zie dat ende geuoele dat hi om mine begherte te vervulne werpt die zielen uten zonden Ende gestadechse in doechden. Ende nu wetti wel dat alre meest es mine begerte daer in es Die alre meeste volmaecthᵗ vangerechtecheiden Daer de zielen af verbliden indē hemel metten vader Ende metten sone Ende den heilegen geest Ende die rieket ende leuet gode met gode sonder inde. Des en twifelic niet en mach wale zijn dat ene ziele ene andere meer mint dan de hare Ochte sise gheuoelt Ende gheloeft beter Dan de hare Niet met peisene Ochte met tekene om hare te minderne Maer ocht die edelheit harē geests es soe groet Dat waerheit haer wijst Datse es naerregode dan de hare En eest dan met recht dat sise meer mīne Dan de hare. Ochte si gode mint om hem selven soe es wel recht dat si meest mīne dat hi meest mint. Hier af comt dat hem die mā luttel mīt Alse hi kint sine onvolmaectheit. In dese warheit comt hi in zekerheit van wetentheid Ende kint dan wat dat es die warheit. Alsic dan geuoele wat dat es Dat een wesen es Dat wesen sal in enecheiden Ende dat nu vore ons ons wandelt als in enen spiegel Ende soe bliuet cume ic en late mi genoeghen Daer in zueteleec te slapene. Ende het bliuet cume in verliese redene ende geselle mi metten genen die ghaen ouer redene En̄ sijn seker.woudic alsoe doen ic leide mine redene in auonturen Ende sage En̄ horde Ende ware dicke in contemplacien En wistic niet dat verlichte redene mochte vervolgen Die principaelste stadt der hoger minnen Ende so waric emmer sondʼ redene. Ay en gheen ziele en mach hare te rechte verhogē in hemelrike Noch in erterike sonder redene Noch die zielen die in de hellen zijn en hadden en gheene pine en dade redene Endedie oerdenē Die de heiligen maecten mids den heilegen geest sijn geordineert met redenen. Men segt Caritate en zueket hars niet. Alsoe en doet redene darse verlicht es Ende volghdē wy hare wy en wordennēmermeer bedrogen met valschen visioenen Noch met gheenen zaken Noch en sochten nemmermeer dingen die niet wesē en mochten Noch die niet sijn en souden. En es geen dinc soe seker mede te verwinnene onghestadecheit als redene die verlicht es. Noch de sone god derheymelecheit gods hi wrachte alle wege den wille zijns vader na redene verlicht ende claer. Het maken nu vele liede daer af hare contemplatie hadden si verlichte redene Si en hildent maer ouer al luttel affectien gemingt met zuetecheiden Daer men niet af en mach zonder scade In gelikenessen van gracien. En̄ niet te meer dan men Den sone mach iaghen vander eenre stadt ter andere Soe en mach men gratie oefenen in affectiē. Hadt mogen wesen soe en hadde die goedeJan baptiste niet geghaen in die woestine om te vliene de mīne Die hi haddete sinē vader En̄ ane sijnre moeder Die soe goede liede waren. Te hem en was niet geseit dat men hem soude senden Den heilegē geest. Daer omme hi was geheilecht in sijnre moedʼ lichame. En̄ ia ocht hi die so heilech was vreesde dat selke mīne soude becommeren sinen geest Wat mogen wi dan doen die van onser affectien hebbē paraclijt. Dat es die zake die alre meest verdonkert redene Ende becōmert godleecheit. Ende alle die peisinghe van gisteren Ende van heden Die en willen si niet. Daer omme haer zuete affectie heeft se so bedroghen Dat si wanē ter gewareger mīen comen sijn En̄ bliuen aldus bedroghen. Si en achten niet op ghisteren noch op heden Ghisteren dat goet dat geweest heeft Ende heden dat goet dat ons nu wiset Marghen dat geuoelen daer ons trouwe af segtDat wyhebben selen genuechte in allen gebrukene vor dat anschijn gods. Noch dit heden noch dit gisteren Noch dit margen en verdoeft redene Maer het georloeft hare Dattʼ god de vader hebbe alsoe vele als te hem behort Ende hi helpter hem toe met alre macht reikende in caritatē toenende in de werken sijns soens Die gisteren ende heden zwigen. Nochtan dat hi dit wale weet soe moetē sijs oꝟ een dragen met gewaregher caritaten. Soe beghert die drieuoldecheit haer cussen. En̄ eer geoerloefde hi hare al hare bede eer hijs niet en hadde Ende heeftse lieuer sijn cussen so verliese redene ende so machse wale. Hadsi dan lieuer Dat cussen Dan dat zijn begerte ware voldaen so mochte hi wale stervē Ende si verlore danredene. Nu wiset haer redene Dat si en noch niet cusse want si storve Ende en laetse redene sterven. Nu en heuet haer redene noch niet gewijst hoe dese maniere soude zijn ochtse storve. nochtan es haer meeste begerte dat cussen dat die drieuoldecheit begert. Ay hoe si nu gehorsa■m■ es onder redene Ende wie scone es redene. Nochtā moet gescien de wille gods. Ende hi wilt dat icken cusse En̄redene en laet mi noch niet Ende zwart op mi dat ic hope ende wille al dat hiwilt Ende dat hi doet ende segt Dat icken niet en cusse in gheenre manieren also lange alsic drage die ymagine vanden ertschen man. Ay wat mochtics dat ic redenē hadde ene oghe ute gesteken. Dan soudic wanen zijngeholpen Ende hebben bi wile zuetecheit Ende zien bi wilen visioene Ende dicke zijn in weelden alse de gene doē Die op redene niet hachten. Nu wille onse here al dat ic wille en̄ ic begere dat cussen. Nochtan en willict niet georlouen want ic storve. Dan seggict te heme Here dat sal zijn alre ierst gedaen Eer du maechs gesaedt zijn van mi Dat uwe sone dat sal hebben gedaen alle dinc ane hem getrect eer ic u cusse. Ende ic sal getrocken sijn met alle dingen. Dan mogdi ons cussenal te gadere nu ende dan nemt van mi dats u werden mach. Ic beghere dat behaechenesse alre meest Eest dat ghi u daer alre meest zaedt. Dat hebbic lieuer dan ane mi. Dat dit waer es dies treckic te orconden alle die zalecheit die u lieue sone ih■esu■s chr■istu■s ons verdiende Ende beghinc Doen hi in erterike quam dor ons. Ic en lieghe niet in minen geeste. Dat van mi di niet gnoech en es Volmake mi di gnoech. ontfarmecheit moets mi onnen. Am■en■.Ic seggu aldus na mine wensche aldus enech ten volcomensten wesene te gode Ende so volcomene caritate ten menschen. Dus willic altoes in minen vrient Ende oec in anderē En̄ in mi selven alne werkict niet. Dit sagic alre ghernst Dat gode van ons gesciede en̄ ons van heme. aldus leuede hem sijn heilegesone Doen hi mensche leuede. Die godheit scheen doer heme in sine wondere vanmiraculen Die hi dede in dode inziekē in anderen allen. Ende al dede hise in oetmoedecheit van mīnen En̄ anebedende sinen vader Ende dien verclarende in alle sinen werken Hi en ghinc niet liggē iubileren ende uefenen galozie. Maer si alle die zijns behoefden waren berecht met waerheiden En̄ met getrouwer doechden na alle haren noet. Hi hieltverlichte redene Die onse regele behoeft te sine Dier hi en gheene noet en hadde En̄ wy diere noet hebben vergeten hars. En̄ dar omme verclarenwine ouer luttel Die ons so clare verclaert heeft. Noch soudic gerne seggen eneandere claerheit van gode Maar mijn ongeual moet verstillen alst dicke gedaen heeft. Die groetheit gods En̄ die cleinheit der menschen En̄ die menechfuldege herten doen den wisen man zwigen. Ay sint dat mi die heilege mīne gods dede zwigen soe hebbic nochtan vele van gode gesien gheweten ende gehort. Nochtan moetic houdē Dat ic hielt oec dat niet allene. Ic hielt alle dinc vore ende na En̄ moet zwigen tote dien dage Dat mi onse here diene wiset Diet mi eyscht dat hi mi gaf. Ic hebbe alle mine hebbene Ende alle mine wondere gebonden ende gedaen tote dien dage dat yemen comt te mi ende vraecht wat dat es dat ic meyne En̄ mīne ende geuoele. Die sal zijn metgode God dat ic bi heme meer te bekinder ende tonderscedenre. En̄ eest dat ic met heme gemeine hebben wille Ende met niemene en wille hi en houde heme also gereet gode te geuene Ende die in heme gereet sijn te ontfane alsoene gheminde bruut haren geminden brudegoem es gereet tontfane alle sinen willeindē haren sonder sparen. Ay alle die ic wiste die dus gereet waren Die woudic cussen metter enecheit mijns gods En̄ met hem woudic weenen ende dolen hare ellende ter mīnen wert. Met hen willic wonen leuen ende sterven spelē endeiubileren ende eeren alse hare wale betaemt Als dandʼ dede. Hi ontboet die archa Dat mense hem brachte Daer die trisoer in was māna En̄ die tafele en̄ hemelsche broet. Doen dede hi ane i. wit cleet ende sprane voer die archa en̄ iubileerde en■d■e organizeerde. Wat waendi hoe was hē te moede Doe hi soe geliet ende vergat zijns heerscaeps Ende zij■n■s scoens ghelaets Ende ontfinc den trizoer met dem driē diensten daer hi hē toe cleede wit. Waer omme en ontfeet mē nu die hoge trizoere so scone niet Die archa daer die scone manna in ghemingt Ende gheuoedt es die godleke nature der godheit En̄ die edele roede die ziele gods Die de vriende verslouch ende verledechde uten bedwange in■den vrede En̄ die tafele die bescreuen was buten ende binnen Die heilegelichame ons heren. Ay die clare enege ziele Die al hare inghesinde ghesament heeft in een En̄ in die hoge drieuoldecheit enecht En̄ in die enecheit drieuoldecht Ende dore die drie in soe menechfuldegen wondere in den riken rike der godhᵗ Hoe wale waerse wert Dat mense werdelec ontfinge. hare salmen gerne wit cleet ane doen Ende Dat gedwegen en̄ geblouwen in ontfarmecheiden.\n"
     ]
    }
   ],
   "source": [
    "import re\n",
    "from docx import Document\n",
    "\n",
    "document = Document('../data/mierlo.docx')\n",
    "\n",
    "clean_text = ''\n",
    "\n",
    "for paragraph in document.paragraphs:\n",
    "    Italic_Text = ''\n",
    "    for run in paragraph.runs:\n",
    "        if run.italic == None:\n",
    "            clean_text += run.text\n",
    "        elif run.italic == True:\n",
    "            clean_text += \"{\" + run.text + \"}\"\n",
    "        \n",
    "clean_text = clean_text.replace(\" }\", \"} \")\n",
    "clean_text = clean_text.replace(\"i{n}\", \"ī\")\n",
    "clean_text = clean_text.replace(\"ene{n}\", \"enē\")\n",
    "clean_text = clean_text.replace(\"va{n}\", \"vā\")\n",
    "clean_text = clean_text.replace(\"o{n}\", \"ō\")\n",
    "clean_text = clean_text.replace(\"o{m}\", \"ō\")\n",
    "clean_text = clean_text.replace(\"e{n}\", \"ē\")\n",
    "clean_text = clean_text.replace(\"En{de}\", \"En̄\")\n",
    "clean_text = clean_text.replace(\"en{de}\", \"en̄\")\n",
    "clean_text = clean_text.replace(\"e{m}\", \"ē\")\n",
    "clean_text = clean_text.replace(\"v{er}\", \"vʼ\")\n",
    "clean_text = clean_text.replace(\"h{er}\", \"hʼ\")\n",
    "clean_text = clean_text.replace(\"u{er}\", \"uʼ\")\n",
    "clean_text = clean_text.replace(\"nat{ur}e\", \"nate᷑\")\n",
    "clean_text = clean_text.replace(\"{ar}\", \"ʼ\")\n",
    "clean_text = clean_text.replace(\"w{er}\", \"wʼ\")\n",
    "clean_text = clean_text.replace(\"h{ei}t\", \"hᵗ\")\n",
    "clean_text = clean_text.replace(\"u{m}\", \"ū\")\n",
    "clean_text = clean_text.replace(\"a{n}\", \"ā\")\n",
    "clean_text = clean_text.replace(\"d{aer}\", \"dʼ\")\n",
    "clean_text = clean_text.replace(\"i{m}\", \"ī\")\n",
    "clean_text = clean_text.replace(\"{er}\", \"ʼ\")\n",
    "clean_text = clean_text.replace(\"sij{n}\", \"sij̄\")\n",
    "clean_text = clean_text.replace(\"{et}\", \"ꝫ\")\n",
    "clean_text = clean_text.replace(\"{r}o\", \"ᵒ\")\n",
    "clean_text = clean_text.replace(\"+\", \" \")\n",
    "clean_text = clean_text.replace(\"a{r}e\", \"aʼe\")\n",
    "\n",
    "clean_text = clean_text.replace(\":\", \"\")\n",
    "clean_text = clean_text.replace(\",\", \"\")\n",
    "\n",
    "clean_text = clean_text.replace(\"§\", \"¶\")\n",
    "\n",
    "clean_text = clean_text.replace(\"/.\", \" .\")\n",
    "clean_text = clean_text.replace(\" /,\", \" .\")\n",
    "clean_text = clean_text.replace(\"/,\", \" .\")\n",
    "clean_text = clean_text.replace(\"/;\", \" .\")\n",
    "clean_text = clean_text.replace(\"/\", \" .\")\n",
    "\n",
    "clean_text = clean_text.replace(\"{\", \"■\")\n",
    "clean_text = clean_text.replace(\"}\", \"■\")\n",
    "clean_text = clean_text.replace(\"||\", \"\")\n",
    "clean_text = clean_text.replace(\"*\", \"\")\n",
    "clean_text = clean_text.replace(\"-\", \"■\")\n",
    "clean_text = clean_text.replace(\"(\", \"\")\n",
    "clean_text = clean_text.replace(\")\", \"\")\n",
    "clean_text = clean_text.replace(\"■■\", \"\")\n",
    "clean_text = clean_text.replace(\";\", \"\")\n",
    "clean_text = clean_text.replace(\"vʼ\", \"ꝟ\")\n",
    "\n",
    "clean_text = clean_text.replace(\"m■inn■e\", \"mᵉ\")\n",
    "clean_text = clean_text.replace(\"m■inne■n\", \"mⁿ\")\n",
    "\n",
    "\n",
    "\n",
    "\n",
    "\n",
    "\n",
    "#v tussen twee klinkers is u\n",
    "\n",
    "\n",
    "clean_text = re.sub(r'\\[\\d+\\]', '', clean_text)\n",
    "clean_text = re.sub(r'\\d+', '', clean_text)\n",
    "clean_text = re.sub(r\"\\s+\" , \" \", clean_text)\n",
    "clean_text = re.sub(r\"(?<=[aeiuo])v(?=[aeiou])\", \"u\", clean_text)  #v tussen twee klinkers is u\n",
    "\n",
    "\n",
    "clean_text = re.sub(r\"\\s+$\", \"\", clean_text, flags=re.UNICODE)\n",
    "\n",
    "\n",
    "#clean_text = clean_text.translate(str.maketrans('', '', string.punctuation))\n",
    "clean_text = clean_text.replace('\\n', ' ').replace('\\r', '')\n",
    "\n",
    "\n",
    "\n",
    "print(clean_text)\n",
    "\n"
   ]
  },
  {
   "cell_type": "code",
   "execution_count": null,
   "metadata": {},
   "outputs": [],
   "source": []
  },
  {
   "cell_type": "code",
   "execution_count": null,
   "metadata": {},
   "outputs": [],
   "source": []
  },
  {
   "cell_type": "code",
   "execution_count": null,
   "metadata": {},
   "outputs": [],
   "source": []
  }
 ],
 "metadata": {
  "kernelspec": {
   "display_name": "Python 3",
   "language": "python",
   "name": "python3"
  },
  "language_info": {
   "codemirror_mode": {
    "name": "ipython",
    "version": 3
   },
   "file_extension": ".py",
   "mimetype": "text/x-python",
   "name": "python",
   "nbconvert_exporter": "python",
   "pygments_lexer": "ipython3",
   "version": "3.8.5"
  }
 },
 "nbformat": 4,
 "nbformat_minor": 4
}
