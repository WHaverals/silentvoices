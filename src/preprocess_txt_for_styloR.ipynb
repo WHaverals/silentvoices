{
 "cells": [
  {
   "cell_type": "code",
   "execution_count": 1,
   "metadata": {},
   "outputs": [],
   "source": [
    "## Script for preprocessing txt files (from Transkribus) to nvestigate them in Stylo with R"
   ]
  },
  {
   "cell_type": "code",
   "execution_count": 21,
   "metadata": {},
   "outputs": [],
   "source": [
    "lowercase_lines = []\n",
    "\n",
    "with open('../data/corpus_stage/Ghent1374_DerdeMartijn.txt', 'r') as f: # ONB13708_DerdeMartijn.txt or Ghent1374_DerdeMartijn\n",
    "    \n",
    "    s = f.read().lower()\n",
    "    \n",
    "    s = s.replace('ā', 'aM')\n",
    "    s = s.replace('ē', 'eM')\n",
    "    s = s.replace('ī', 'iM')\n",
    "    s = s.replace('j̄', 'jM')\n",
    "    s = s.replace('ō', 'oM')\n",
    "    s = s.replace('n̄', 'nM')\n",
    "    s = s.replace('ū', 'uM')\n",
    "    \n",
    "    s = s.replace('ʼ', 'ER')\n",
    "    s = s.replace('ꝫ', 'ET')\n",
    "    \n",
    "    s = s.replace('ᵃ', 'aS')\n",
    "    s = s.replace('ᵉ', 'eS')\n",
    "    s = s.replace('ᶦ', 'iS')\n",
    "    s = s.replace('ᵒ', 'oS')\n",
    "    s = s.replace('ᵘ', 'uS')\n",
    "    s = s.replace('ᵗ', 'tS')\n",
    "    \n",
    "    s = s.replace('²', 'UR')\n",
    "    s = s.replace('ꝰ', 'US')\n",
    "    s = s.replace('ꝑ', 'pER')\n",
    "    s = s.replace('ꝓ', 'pRO')\n",
    "    \n",
    "    lowercase_lines.append(s)\n",
    "    \n",
    "#write new text file\n",
    "lowercased_text = open('../data/corpus_stage/Ghent1374_DerdeMartijn_NEW.txt', 'w') #ONB13708_DerdeMartijn_NEW\n",
    "lowercased_text.writelines(lowercase_lines)\n",
    " \n",
    "#close file\n",
    "lowercased_text.close()"
   ]
  },
  {
   "cell_type": "code",
   "execution_count": null,
   "metadata": {},
   "outputs": [],
   "source": []
  }
 ],
 "metadata": {
  "kernelspec": {
   "display_name": "Python 3.6",
   "language": "python",
   "name": "py36"
  },
  "language_info": {
   "codemirror_mode": {
    "name": "ipython",
    "version": 3
   },
   "file_extension": ".py",
   "mimetype": "text/x-python",
   "name": "python",
   "nbconvert_exporter": "python",
   "pygments_lexer": "ipython3",
   "version": "3.6.10"
  }
 },
 "nbformat": 4,
 "nbformat_minor": 4
}
