{
 "cells": [
  {
   "cell_type": "code",
   "execution_count": 7,
   "metadata": {},
   "outputs": [
    {
     "name": "stdout",
     "output_type": "stream",
     "text": [
      "_________\n",
      "Loept alsoe dat ghi begripē moegt Dit sijn Sīte Pauwels woʼde tote diē liedē vā Corītiē en̄ oec tote ons allē In desē wordē mogē wi mʼkē ·iij· dīghe In dē iʼstē worde daʼ hi sprect loept ghebiet hi ons allē geestelike te lopēe dat es met mīnē In dē andʼē worde daʼ hi sprect alsoe hetet hi ons mʼkē de manire ons loepēs op dat wi wijsleke loepē Tē dʼdē male wilt hi dat wi anesiē dat īde ons loepēs en̄ die dīc daʼ wi na loepē op dat wi niet ē ghemessē maʼ begripē en̄ besittē Alle mēschē motē loepē dē loep dʼ mīnē te Gode ocht tē creaturē En̄ gheē dīc ē es soe snel noch soe subtijl alse loep dʼ mīnē Hiʼ omme sal de mēsche hē selvē mʼkē en̄ proevē ochte de loep sire mīnē ī Gode es ghekeʼt soe sal hi sekʼ begripē maʼ es hi tē creaturē soe moet hi\n"
     ]
    }
   ],
   "source": [
    "import os \n",
    "import glob \n",
    "import subprocess\n",
    "import pdftotext\n",
    "import re\n",
    "import string\n",
    "\n",
    "files=[]\n",
    "# Load your PDF\n",
    "#with open(\"test.pdf\", \"rb\") as f:\n",
    " #   pdf = pdftotext.PDF(f)\n",
    "    #text = ('\\n').join(pdf)\n",
    "    #text = text.decode(\"utf-8\")\n",
    "    \n",
    "with open(\"untitled.txt\", \"r\") as t:\n",
    "    text = t.read()\n",
    "    print('_________')\n",
    "    #print(text)\n",
    "    \n",
    "    \n",
    "    #text = text.translate(str.maketrans('', '', string.punctuation))    \n",
    "    text = text.replace(' ende ', ' BUFFER ')\n",
    "    text = text.replace(' Ende ', ' BUFFER_1 ')\n",
    "    text = text.replace(' een ', ' BUFFER_2 ')\n",
    "    text = text.replace(' sine ', ' BUFFER_3 ')\n",
    "\n",
    "\n",
    "    text = text.replace('en', 'ē')\n",
    "    text = text.replace(' ver', ' ꝟ')\n",
    "    text = text.replace('er', 'ʼ')\n",
    "    text = text.replace(' in ', ' ī ')\n",
    "    text = text.replace(' van ', ' vā ')\n",
    "    text = text.replace('in', 'ī')\n",
    "    text = text.replace(' BUFFER ', ' en̄ ')\n",
    "    text = text.replace(' BUFFER_1 ', ' En̄ ')\n",
    "    text = text.replace(' BUFFER_2 ', ' een ')\n",
    "    text = text.replace(' BUFFER_3 ', ' sine ')\n",
    "\n",
    "    text = text.replace('prop', 'ꝓp')\n",
    "    text = text.replace(' hem ', ' hē ')\n",
    "    text = text.translate(str.maketrans('', '', string.punctuation))\n",
    "    text = text.replace('\\n', ' ').replace('\\r', '')\n",
    "    \n",
    "    print(text)\n",
    "    with open(\"file\", \"w\") as text_file:\n",
    "        print(text, file=text_file)"
   ]
  },
  {
   "cell_type": "code",
   "execution_count": 21,
   "metadata": {},
   "outputs": [
    {
     "name": "stdout",
     "output_type": "stream",
     "text": [
      "110\n"
     ]
    }
   ],
   "source": [
    "print(ord(u\"n\"))"
   ]
  },
  {
   "cell_type": "code",
   "execution_count": null,
   "metadata": {},
   "outputs": [],
   "source": []
  }
 ],
 "metadata": {
  "kernelspec": {
   "display_name": "Python 3",
   "language": "python",
   "name": "python3"
  },
  "language_info": {
   "codemirror_mode": {
    "name": "ipython",
    "version": 3
   },
   "file_extension": ".py",
   "mimetype": "text/x-python",
   "name": "python",
   "nbconvert_exporter": "python",
   "pygments_lexer": "ipython3",
   "version": "3.8.5"
  }
 },
 "nbformat": 4,
 "nbformat_minor": 4
}
