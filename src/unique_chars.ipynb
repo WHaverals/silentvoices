{
 "cells": [
  {
   "cell_type": "code",
   "execution_count": 3,
   "metadata": {},
   "outputs": [
    {
     "name": "stdout",
     "output_type": "stream",
     "text": [
      "{'‖', 'A', 'K', '7', '|', 'ᵃ', 'ᵒ', '3', 'r', 'ᵘ', 'E', 'V', 'u', 'J', 'ᶜ', 'M', 'O', 'R', 'ꝑ', '⁜', ' ', '\\uf158', '⸫', '0', '5', 's', ':', 'F', 'W', 'S', 'Z', 'I', 'h', 'e', 'ᵗ', '‡', 'l', '9', 'X', 'y', 'w', 'c', '¶', 'p', 'ꝰ', 'Ꝓ', '2', 'd', 'B', 'o', 'x', 'ꝯ', 'P', 'n', 'i', '.', 'U', 'ⁿ', '̅', 'q', 'a', 'ᶦ', 'ƶ', 'H', 'ð', '8', 'z', 'm', 'g', 'Q', 'v', '‸', 'D', '\\n', 'j', 'b', 'N', '²', '1', 't', 'k', 'ꞏ', 'ᵉ', '6', 'f', 'ʼ', '\\xad', 'ꝓ', '-', '+', 'L', 'ᵛ', 'T', 'G', 'C', '4', 'Y', '⁝', 'ꝫ', 'ᵐ'}\n"
     ]
    }
   ],
   "source": [
    "fh = open('hs.txt','r').read()\n",
    "unique_chars = set(fh)\n",
    "print(unique_chars)"
   ]
  },
  {
   "cell_type": "code",
   "execution_count": null,
   "metadata": {},
   "outputs": [],
   "source": []
  }
 ],
 "metadata": {
  "kernelspec": {
   "display_name": "Python 3",
   "language": "python",
   "name": "python3"
  },
  "language_info": {
   "codemirror_mode": {
    "name": "ipython",
    "version": 3
   },
   "file_extension": ".py",
   "mimetype": "text/x-python",
   "name": "python",
   "nbconvert_exporter": "python",
   "pygments_lexer": "ipython3",
   "version": "3.8.5"
  }
 },
 "nbformat": 4,
 "nbformat_minor": 4
}
