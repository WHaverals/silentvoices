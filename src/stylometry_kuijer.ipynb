{
 "cells": [
  {
   "cell_type": "code",
   "execution_count": 20,
   "metadata": {},
   "outputs": [
    {
     "name": "stdout",
     "output_type": "stream",
     "text": [
      "2\n"
     ]
    }
   ],
   "source": [
    "import os  \n",
    "texts =  []\n",
    "all_files = os.listdir(\"../M3\")\n",
    "for file in all_files:\n",
    "    with open(\"../M3/\"+file, 'r', encoding='utf8') as f:\n",
    "        text = f.read()\n",
    "        texts.append(text)\n",
    "print(len(texts))"
   ]
  },
  {
   "cell_type": "code",
   "execution_count": null,
   "metadata": {},
   "outputs": [],
   "source": []
  },
  {
   "cell_type": "code",
   "execution_count": null,
   "metadata": {},
   "outputs": [],
   "source": []
  },
  {
   "cell_type": "code",
   "execution_count": 22,
   "metadata": {},
   "outputs": [
    {
     "data": {
      "text/plain": [
       "<bound method CountVectorizer.get_feature_names of CountVectorizer(max_features=100, token_pattern='(?u)\\\\b\\\\w+\\\\b')>"
      ]
     },
     "execution_count": 22,
     "metadata": {},
     "output_type": "execute_result"
    }
   ],
   "source": [
    "# build bag-of-words model\n",
    "\n",
    "import sklearn.feature_extraction.text as text\n",
    "\n",
    "vectorizer = text.CountVectorizer(max_features=100,\n",
    "                                 token_pattern=r\"(?u)\\b\\w+\\b\")\n",
    "\n",
    "vectorizer.get_feature_names"
   ]
  },
  {
   "cell_type": "code",
   "execution_count": 23,
   "metadata": {},
   "outputs": [
    {
     "name": "stdout",
     "output_type": "stream",
     "text": [
      "(2, 100)\n",
      "['af', 'al', 'alle', 'als', 'also', 'altoes', 'ane', 'bi', 'bouē', 'daer', 'dat', 'daʼ', 'de', 'den', 'des', 'dese', 'di', 'die', 'dies', 'diet', 'dij', 'dit', 'dits', 'drie', 'du', 'dē', 'dīc', 'dʼ', 'dꝫ', 'een', 'eest', 'elc', 'en', 'enē', 'es', 'geen', 'geest', 'geloeue', 'god', 'gode', 'godhᵗ', 'gods', 'heeft', 'hem', 'hen', 'hi', 'hier', 'hine', 'hoe', 'hē', 'iacob', 'ic', 'in', 'jn', 'mach', 'maʼ', 'mertē', 'met', 'mi', 'mij', 'moꝫ', 'mē', 'mēschᵗ', 'mꝫ', 'na', 'niet', 'no', 'noch', 'nu', 'nᵗ', 'ochte', 'oec', 'op', 'sal', 'si', 'sij', 'sijn', 'sin', 'sine', 'sinen', 'sinē', 'so', 'soe', 'sonder', 'sondʼ', 'sone', 'sōdʼ', 'te', 'vader', 'vadʼ', 'van', 'vā', 'was', 'wat', 'wel', 'wi', 'wt', 'wāt', 'ē', 'ī']\n"
     ]
    }
   ],
   "source": [
    "v_documents = vectorizer.fit_transform(texts).toarray()\n",
    "print(v_documents.shape)\n",
    "print(vectorizer.get_feature_names()[:100])"
   ]
  },
  {
   "cell_type": "code",
   "execution_count": 40,
   "metadata": {},
   "outputs": [
    {
     "name": "stdout",
     "output_type": "stream",
     "text": [
      "(2, 100)\n",
      "(2, 100)\n"
     ]
    }
   ],
   "source": [
    "# normalize frequency counts according to L1\n",
    "\n",
    "import numpy as np\n",
    "import sklearn.preprocessing as preprocessing\n",
    "\n",
    "v_documents = preprocessing.normalize(v_documents.astype(float), norm='l1')\n",
    "print(v_documents.shape)\n",
    "\n",
    "scaler = preprocessing.StandardScaler()\n",
    "v_documents = scaler.fit_transform(v_documents)\n",
    "print(v_documents.shape)"
   ]
  },
  {
   "cell_type": "code",
   "execution_count": 41,
   "metadata": {},
   "outputs": [
    {
     "name": "stdout",
     "output_type": "stream",
     "text": [
      "(2, 2)\n"
     ]
    }
   ],
   "source": [
    "# calculate distances according to the Manhattan distance (cityblock)\n",
    "\n",
    "import scipy.spatial.distance as distance\n",
    "dm = distance.pdist(v_documents, 'cityblock')\n",
    "print(distance.squareform(dm).shape)"
   ]
  },
  {
   "cell_type": "code",
   "execution_count": 42,
   "metadata": {},
   "outputs": [],
   "source": [
    "# create linnkage object\n",
    "\n",
    "import scipy.cluster.hierarchy as hierarchy\n",
    "linkage_object = hierarchy.linkage(dm, method='ward')"
   ]
  },
  {
   "cell_type": "code",
   "execution_count": 43,
   "metadata": {},
   "outputs": [],
   "source": [
    "%matplotlib inline\n",
    "import matplotlib.pyplot as plt\n",
    "plt.style.use('seaborn-deep')"
   ]
  },
  {
   "cell_type": "code",
   "execution_count": 44,
   "metadata": {},
   "outputs": [
    {
     "data": {
      "image/png": "[encoded data removed]",
      "text/plain": [
       "<Figure size 1080x1080 with 1 Axes>"
      ]
     },
     "metadata": {
      "needs_background": "light"
     },
     "output_type": "display_data"
    }
   ],
   "source": [
    "# plot figure\n",
    "\n",
    "plt.figure(figsize=(15, 15))\n",
    "names = ['_'.join((a)) for a in zip(all_files)]\n",
    "d = hierarchy.dendrogram(linkage_object,\n",
    "                        labels=names,\n",
    "                        orientation='left', leaf_font_size=13)\n",
    "plt.rcParams['svg.fonttype'] = 'none'\n",
    "plt.savefig('dendro max_df=1.0, max_features=2500, min_df=2.svg')"
   ]
  },
  {
   "cell_type": "code",
   "execution_count": 47,
   "metadata": {},
   "outputs": [
    {
     "name": "stdout",
     "output_type": "stream",
     "text": [
      "['af', 'al', 'alle', 'als', 'also', 'altoes', 'ane', 'bi', 'bouē', 'daer', 'dat', 'daʼ', 'de', 'den', 'des', 'dese', 'di', 'die', 'dies', 'diet', 'dij', 'dit', 'dits', 'drie', 'du', 'dē', 'dīc', 'dʼ', 'dꝫ', 'een', 'eest', 'elc', 'en', 'enē', 'es', 'geen', 'geest', 'geloeue', 'god', 'gode', 'godhᵗ', 'gods', 'heeft', 'hem', 'hen', 'hi', 'hier', 'hine', 'hoe', 'hē', 'iacob', 'ic', 'in', 'jn', 'mach', 'maʼ', 'mertē', 'met', 'mi', 'mij', 'moꝫ', 'mē', 'mēschᵗ', 'mꝫ', 'na', 'niet', 'no', 'noch', 'nu', 'nᵗ', 'ochte', 'oec', 'op', 'sal', 'si', 'sij', 'sijn', 'sin', 'sine', 'sinen', 'sinē', 'so', 'soe', 'sonder', 'sondʼ', 'sone', 'sōdʼ', 'te', 'vader', 'vadʼ', 'van', 'vā', 'was', 'wat', 'wel', 'wi', 'wt', 'wāt', 'ē', 'ī']\n"
     ]
    },
    {
     "data": {
      "text/html": [
       "<div>\n",
       "<style scoped>\n",
       "    .dataframe tbody tr th:only-of-type {\n",
       "        vertical-align: middle;\n",
       "    }\n",
       "\n",
       "    .dataframe tbody tr th {\n",
       "        vertical-align: top;\n",
       "    }\n",
       "\n",
       "    .dataframe thead th {\n",
       "        text-align: right;\n",
       "    }\n",
       "</style>\n",
       "<table border=\"1\" class=\"dataframe\">\n",
       "  <thead>\n",
       "    <tr style=\"text-align: right;\">\n",
       "      <th></th>\n",
       "      <th>af</th>\n",
       "      <th>al</th>\n",
       "      <th>alle</th>\n",
       "      <th>als</th>\n",
       "      <th>also</th>\n",
       "      <th>altoes</th>\n",
       "      <th>ane</th>\n",
       "      <th>bi</th>\n",
       "      <th>bouē</th>\n",
       "      <th>daer</th>\n",
       "      <th>...</th>\n",
       "      <th>van</th>\n",
       "      <th>vā</th>\n",
       "      <th>was</th>\n",
       "      <th>wat</th>\n",
       "      <th>wel</th>\n",
       "      <th>wi</th>\n",
       "      <th>wt</th>\n",
       "      <th>wāt</th>\n",
       "      <th>ē</th>\n",
       "      <th>ī</th>\n",
       "    </tr>\n",
       "  </thead>\n",
       "  <tbody>\n",
       "    <tr>\n",
       "      <th>0</th>\n",
       "      <td>1.0</td>\n",
       "      <td>1.0</td>\n",
       "      <td>-1.0</td>\n",
       "      <td>1.0</td>\n",
       "      <td>1.0</td>\n",
       "      <td>1.0</td>\n",
       "      <td>1.0</td>\n",
       "      <td>1.0</td>\n",
       "      <td>-1.0</td>\n",
       "      <td>1.0</td>\n",
       "      <td>...</td>\n",
       "      <td>1.0</td>\n",
       "      <td>-1.0</td>\n",
       "      <td>1.0</td>\n",
       "      <td>1.0</td>\n",
       "      <td>1.0</td>\n",
       "      <td>1.0</td>\n",
       "      <td>1.0</td>\n",
       "      <td>1.0</td>\n",
       "      <td>-1.0</td>\n",
       "      <td>-1.0</td>\n",
       "    </tr>\n",
       "    <tr>\n",
       "      <th>1</th>\n",
       "      <td>-1.0</td>\n",
       "      <td>-1.0</td>\n",
       "      <td>1.0</td>\n",
       "      <td>-1.0</td>\n",
       "      <td>-1.0</td>\n",
       "      <td>-1.0</td>\n",
       "      <td>-1.0</td>\n",
       "      <td>-1.0</td>\n",
       "      <td>1.0</td>\n",
       "      <td>-1.0</td>\n",
       "      <td>...</td>\n",
       "      <td>-1.0</td>\n",
       "      <td>1.0</td>\n",
       "      <td>-1.0</td>\n",
       "      <td>-1.0</td>\n",
       "      <td>-1.0</td>\n",
       "      <td>-1.0</td>\n",
       "      <td>-1.0</td>\n",
       "      <td>-1.0</td>\n",
       "      <td>1.0</td>\n",
       "      <td>1.0</td>\n",
       "    </tr>\n",
       "  </tbody>\n",
       "</table>\n",
       "<p>2 rows × 100 columns</p>\n",
       "</div>"
      ],
      "text/plain": [
       "    af   al  alle  als  also  altoes  ane   bi  bouē  daer  ...  van   vā  \\\n",
       "0  1.0  1.0  -1.0  1.0   1.0     1.0  1.0  1.0  -1.0   1.0  ...  1.0 -1.0   \n",
       "1 -1.0 -1.0   1.0 -1.0  -1.0    -1.0 -1.0 -1.0   1.0  -1.0  ... -1.0  1.0   \n",
       "\n",
       "   was  wat  wel   wi   wt  wāt    ē    ī  \n",
       "0  1.0  1.0  1.0  1.0  1.0  1.0 -1.0 -1.0  \n",
       "1 -1.0 -1.0 -1.0 -1.0 -1.0 -1.0  1.0  1.0  \n",
       "\n",
       "[2 rows x 100 columns]"
      ]
     },
     "execution_count": 47,
     "metadata": {},
     "output_type": "execute_result"
    }
   ],
   "source": [
    "import pandas as pd\n",
    "vocab = vectorizer.get_feature_names()\n",
    "print(vocab)\n",
    "corpus_dataframe = pd.DataFrame(v_documents, columns=vocab)\n"
   ]
  },
  {
   "cell_type": "code",
   "execution_count": 55,
   "metadata": {},
   "outputs": [
    {
     "name": "stdout",
     "output_type": "stream",
     "text": [
      "StandardScaler()\n"
     ]
    },
    {
     "data": {
      "text/plain": [
       "array([[ 1.,  1., -1.,  1.,  1.,  1.,  1.,  1., -1.,  1.,  1., -1.,  1.,\n",
       "         1.,  1.,  1.,  1., -1., -1.,  1., -1., -1.,  1., -1.,  1., -1.,\n",
       "        -1., -1., -1.,  1.,  1.,  1.,  1.,  1.,  1., -1., -1.,  1.,  1.,\n",
       "         1., -1.,  1.,  1.,  1., -1.,  1.,  1.,  1.,  1., -1.,  1.,  1.,\n",
       "         1., -1.,  1.,  1.,  1.,  1., -1., -1., -1., -1., -1., -1., -1.,\n",
       "         1.,  1., -1.,  1., -1., -1.,  1.,  1.,  1.,  1., -1.,  1., -1.,\n",
       "        -1.,  1., -1., -1.,  1.,  1.,  1., -1., -1., -1.,  1., -1.,  1.,\n",
       "        -1.,  1.,  1.,  1.,  1.,  1.,  1., -1., -1.],\n",
       "       [-1., -1.,  1., -1., -1., -1., -1., -1.,  1., -1., -1.,  1., -1.,\n",
       "        -1., -1., -1., -1.,  1.,  1., -1.,  1.,  1., -1.,  1., -1.,  1.,\n",
       "         1.,  1.,  1., -1., -1., -1., -1., -1., -1.,  1.,  1., -1., -1.,\n",
       "        -1.,  1., -1., -1., -1.,  1., -1., -1., -1., -1.,  1., -1., -1.,\n",
       "        -1.,  1., -1., -1., -1., -1.,  1.,  1.,  1.,  1.,  1.,  1.,  1.,\n",
       "        -1., -1.,  1., -1.,  1.,  1., -1., -1., -1., -1.,  1., -1.,  1.,\n",
       "         1., -1.,  1.,  1., -1., -1., -1.,  1.,  1.,  1., -1.,  1., -1.,\n",
       "         1., -1., -1., -1., -1., -1., -1.,  1.,  1.]])"
      ]
     },
     "execution_count": 55,
     "metadata": {},
     "output_type": "execute_result"
    }
   ],
   "source": [
    "from sklearn.feature_extraction.text import CountVectorizer, TfidfVectorizer\n",
    "from sklearn.preprocessing import StandardScaler\n",
    "scaler = StandardScaler()\n",
    "print(scaler.fit(corpus_dataframe))\n",
    "word_count_matrix_ = (scaler.transform(v_documents))\n",
    "word_count_matrix_"
   ]
  },
  {
   "cell_type": "code",
   "execution_count": 56,
   "metadata": {},
   "outputs": [
    {
     "name": "stdout",
     "output_type": "stream",
     "text": [
      "[[0. 2.]\n",
      " [2. 0.]]\n",
      "(2, 2)\n"
     ]
    }
   ],
   "source": [
    "from sklearn.metrics.pairwise import euclidean_distances, cosine_similarity, manhattan_distances, cosine_distances\n",
    "from sklearn.preprocessing import StandardScaler\n",
    "from numpy import array\n",
    "\n",
    "distance_metric = \"cosine distances\"\n",
    "scaler = StandardScaler()\n",
    "\n",
    "if distance_metric == \"euclidian distance\":\n",
    "    similarity = euclidean_distances(word_count_matrix_)\n",
    "elif distance_metric == \"cosine similarity\":\n",
    "    similarity = cosine_similarity(word_count_matrix_)\n",
    "elif distance_metric == \"cosine distances\":\n",
    "    similarity = cosine_distances(word_count_matrix_)\n",
    "elif distance_metric == \"manhattan\":\n",
    "    similarity = manhattan_distances(word_count_matrix_)\n",
    "\n",
    "print(similarity)\n",
    "print(similarity.shape)"
   ]
  },
  {
   "cell_type": "code",
   "execution_count": 57,
   "metadata": {},
   "outputs": [
    {
     "name": "stderr",
     "output_type": "stream",
     "text": [
      "/Users/whaverals/opt/anaconda3/envs/py36/lib/python3.6/site-packages/scipy/cluster/hierarchy.py:826: ClusterWarning: scipy.cluster: The symmetric non-negative hollow observation matrix looks suspiciously like an uncondensed distance matrix\n",
      "  return linkage(y, method='ward', metric='euclidean')\n"
     ]
    }
   ],
   "source": [
    "from scipy.cluster.hierarchy import ward, centroid, weighted, dendrogram\n",
    "linkage_matrix = ward(similarity)"
   ]
  },
  {
   "cell_type": "code",
   "execution_count": 60,
   "metadata": {},
   "outputs": [
    {
     "name": "stdout",
     "output_type": "stream",
     "text": [
      "Using matplotlib backend: MacOSX\n",
      "Populating the interactive namespace from numpy and matplotlib\n"
     ]
    },
    {
     "data": {
      "text/plain": [
       "(array([0. , 0.5, 1. , 1.5, 2. , 2.5, 3. ]),\n",
       " [Text(0, 0, ''),\n",
       "  Text(0, 0, ''),\n",
       "  Text(0, 0, ''),\n",
       "  Text(0, 0, ''),\n",
       "  Text(0, 0, ''),\n",
       "  Text(0, 0, ''),\n",
       "  Text(0, 0, '')])"
      ]
     },
     "execution_count": 60,
     "metadata": {},
     "output_type": "execute_result"
    },
    {
     "data": {
      "image/png": "[encoded data removed]",
      "text/plain": [
       "<Figure size 864x1152 with 1 Axes>"
      ]
     },
     "metadata": {},
     "output_type": "display_data"
    }
   ],
   "source": [
    "%matplotlib\n",
    "import matplotlib.pyplot as plt\n",
    "import matplotlib.font_manager\n",
    "from textwrap import wrap\n",
    "\n",
    "import seaborn as sns\n",
    "\n",
    "\n",
    "%pylab inline\n",
    "pylab.rcParams['figure.figsize']=(12,16)\n",
    "sns.set()\n",
    "plt.style.use('seaborn-white')\n",
    "\n",
    "matplotlib.rc('font', family='serif')\n",
    "    \n",
    "# Make the Dendrogram\n",
    "dendrogram(linkage_matrix, orientation=\"left\", leaf_font_size=9, color_threshold=6)\n",
    "\n",
    "# Add x and y axis labels\n",
    "plt.xlabel(\"Distance\")\n",
    "plt.ylabel(\"Texts\")\n",
    "plt.xticks(rotation=0)\n",
    "\n"
   ]
  },
  {
   "cell_type": "code",
   "execution_count": 61,
   "metadata": {},
   "outputs": [],
   "source": [
    "from sklearn.decomposition import PCA"
   ]
  },
  {
   "cell_type": "code",
   "execution_count": 62,
   "metadata": {},
   "outputs": [],
   "source": [
    "# create the PCA object\n",
    "pca = PCA(n_components = 2)\n",
    "\n",
    "# analyze the dataset\n",
    "my_pca = pca.fit(similarity).transform(similarity)"
   ]
  },
  {
   "cell_type": "code",
   "execution_count": 63,
   "metadata": {},
   "outputs": [],
   "source": [
    "loadings = pca.components_"
   ]
  },
  {
   "cell_type": "code",
   "execution_count": 67,
   "metadata": {},
   "outputs": [
    {
     "ename": "IndexError",
     "evalue": "index 2 is out of bounds for axis 1 with size 2",
     "output_type": "error",
     "traceback": [
      "\u001b[0;31m---------------------------------------------------------------------------\u001b[0m",
      "\u001b[0;31mIndexError\u001b[0m                                Traceback (most recent call last)",
      "\u001b[0;32m<ipython-input-67-69ed65ee5702>\u001b[0m in \u001b[0;36m<module>\u001b[0;34m\u001b[0m\n\u001b[1;32m     11\u001b[0m \u001b[0;31m# pca information\u001b[0m\u001b[0;34m\u001b[0m\u001b[0;34m\u001b[0m\u001b[0;34m\u001b[0m\u001b[0m\n\u001b[1;32m     12\u001b[0m \u001b[0;32mfor\u001b[0m \u001b[0mi\u001b[0m\u001b[0;34m,\u001b[0m \u001b[0mtxt\u001b[0m \u001b[0;32min\u001b[0m \u001b[0menumerate\u001b[0m\u001b[0;34m(\u001b[0m\u001b[0mvocab\u001b[0m\u001b[0;34m)\u001b[0m\u001b[0;34m:\u001b[0m\u001b[0;34m\u001b[0m\u001b[0;34m\u001b[0m\u001b[0m\n\u001b[0;32m---> 13\u001b[0;31m     plt.annotate(txt, (loadings[0, i], loadings[1, i]), horizontalalignment='center',\n\u001b[0m\u001b[1;32m     14\u001b[0m                  verticalalignment='center', size=10)\n",
      "\u001b[0;31mIndexError\u001b[0m: index 2 is out of bounds for axis 1 with size 2"
     ]
    },
    {
     "data": {
      "image/png": "[encoded data removed]",
      "text/plain": [
       "<Figure size 864x1152 with 1 Axes>"
      ]
     },
     "metadata": {},
     "output_type": "display_data"
    }
   ],
   "source": [
    "plt.scatter(loadings[0], loadings[1], alpha=0)\n",
    "\n",
    "# Label and Title\n",
    "plt.title(\"Principal Component Loadings\")\n",
    "plt.xlabel(\"PC1: \" + \"{0:.2f}\".format(pca.explained_variance_ratio_[0] * 100)+\"%\")\n",
    "plt.ylabel(\"PC2: \" + \"{0:.2f}\".format(pca.explained_variance_ratio_[1] * 100)+\"%\")\n",
    "plt.title(f'Loadings for PCA analysis of ')\n",
    "\n",
    "# Iterate through the vocab and plot where it falls on loadings graph\n",
    "# numpy array the loadings info is held in is in the opposite format of the\n",
    "# pca information\n",
    "for i, txt in enumerate(vocab):\n",
    "    plt.annotate(txt, (loadings[0, i], loadings[1, i]), horizontalalignment='center',\n",
    "                 verticalalignment='center', size=10)"
   ]
  },
  {
   "cell_type": "code",
   "execution_count": null,
   "metadata": {},
   "outputs": [],
   "source": []
  }
 ],
 "metadata": {
  "kernelspec": {
   "display_name": "Python 3",
   "language": "python",
   "name": "python3"
  },
  "language_info": {
   "codemirror_mode": {
    "name": "ipython",
    "version": 3
   },
   "file_extension": ".py",
   "mimetype": "text/x-python",
   "name": "python",
   "nbconvert_exporter": "python",
   "pygments_lexer": "ipython3",
   "version": "3.6.10"
  }
 },
 "nbformat": 4,
 "nbformat_minor": 4
}
