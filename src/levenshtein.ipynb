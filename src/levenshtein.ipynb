{
 "cells": [
  {
   "cell_type": "code",
   "execution_count": 10,
   "metadata": {},
   "outputs": [
    {
     "name": "stdout",
     "output_type": "stream",
     "text": [
      "13\n",
      "16\n",
      "6\n",
      "3\n",
      "15\n",
      "14\n",
      "6\n"
     ]
    }
   ],
   "source": [
    "import Levenshtein as lev\n",
    "\n",
    "\n",
    "\n",
    "pseudo-code\n",
    "open txt\n",
    "for elke_lijn in txt:\n",
    "    \n",
    "    \n",
    "    \n",
    "    \n",
    "gold = \"¶ Dese regule dede te dietsche makē lodewijc tho-\"\n",
    "\n",
    "student_trans = [\"¶ Dese reguledʼdʼnʼ diersde makē lodʼwiir tho\", \n",
    "                 \"Zese regule deser te diersdr maken lodewqs thu\",\n",
    "                 \"¶Dese regule dede te diersde makē lodewijc thu\",\n",
    "                 \"¶Dese regule dede te diersche makē lodewijc tho\",\n",
    "                 \"¶Dese regule d'd' n' diersch' makē lud'lliijr thu\",\n",
    "                 \"¶zese regule dede re duersde makē lodume thu\",\n",
    "                 \"¶ Dese regule dede te diersdx makē lodewijc thu\"]\n",
    "                 \n",
    "for student in student_trans:\n",
    "    lev_distance = lev.distance(gold, student)\n",
    "    print(lev_distance)"
   ]
  },
  {
   "cell_type": "code",
   "execution_count": 1,
   "metadata": {},
   "outputs": [
    {
     "ename": "ModuleNotFoundError",
     "evalue": "No module named 'dinglehopper'",
     "output_type": "error",
     "traceback": [
      "\u001b[0;31m---------------------------------------------------------------------------\u001b[0m",
      "\u001b[0;31mModuleNotFoundError\u001b[0m                       Traceback (most recent call last)",
      "\u001b[0;32m<ipython-input-1-3ea0d1b0fb12>\u001b[0m in \u001b[0;36m<module>\u001b[0;34m\u001b[0m\n\u001b[0;32m----> 1\u001b[0;31m \u001b[0;32mimport\u001b[0m \u001b[0mdinglehopper\u001b[0m\u001b[0;34m\u001b[0m\u001b[0;34m\u001b[0m\u001b[0m\n\u001b[0m",
      "\u001b[0;31mModuleNotFoundError\u001b[0m: No module named 'dinglehopper'"
     ]
    }
   ],
   "source": [
    "import dinglehopper"
   ]
  },
  {
   "cell_type": "code",
   "execution_count": null,
   "metadata": {},
   "outputs": [],
   "source": []
  }
 ],
 "metadata": {
  "kernelspec": {
   "display_name": "Python 3",
   "language": "python",
   "name": "python3"
  },
  "language_info": {
   "codemirror_mode": {
    "name": "ipython",
    "version": 3
   },
   "file_extension": ".py",
   "mimetype": "text/x-python",
   "name": "python",
   "nbconvert_exporter": "python",
   "pygments_lexer": "ipython3",
   "version": "3.8.5"
  }
 },
 "nbformat": 4,
 "nbformat_minor": 4
}
