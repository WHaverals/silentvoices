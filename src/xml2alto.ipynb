{
 "cells": [
  {
   "cell_type": "code",
   "execution_count": 1,
   "metadata": {},
   "outputs": [],
   "source": [
    "from lxml import etree"
   ]
  },
  {
   "cell_type": "markdown",
   "metadata": {},
   "source": [
    "Flatten the hierarchy of the choice element, because that is impossible to parse:"
   ]
  },
  {
   "cell_type": "code",
   "execution_count": 2,
   "metadata": {},
   "outputs": [],
   "source": [
    "with open('../data/xml-transcriptions/heberserrure_snippet_1r.xml') as f:\n",
    "    text = f.read()\n",
    "    \n",
    "text = text.replace('<choice>', '')\n",
    "text = text.replace('</choice>', '')\n",
    "\n",
    "with open('tmp.xml', 'w') as f:\n",
    "    f.write(text)"
   ]
  },
  {
   "cell_type": "code",
   "execution_count": 3,
   "metadata": {},
   "outputs": [],
   "source": [
    "tree = etree.parse('tmp.xml')\n",
    "\n",
    "NSMAP = {'MVN': 'http://www.tei-c.org/ns/1.0'}\n",
    "\n",
    "# removes elements in the hierarchy that we don't need:\n",
    "removes = ('teiHeader', 'fw', 'supplied', 'ex')\n",
    "for rm in removes:\n",
    "    for bad in tree.xpath(f'//MVN:{rm}', namespaces=NSMAP):\n",
    "        \n",
    "        bad.getparent().remove(bad)\n",
    "        \n",
    "for bad in tree.xpath(\"//MVN:head[@type=\\'assigned\\']\", namespaces=NSMAP):\n",
    "    bad.getparent().remove(bad) "
   ]
  },
  {
   "cell_type": "code",
   "execution_count": 4,
   "metadata": {},
   "outputs": [
    {
     "name": "stdout",
     "output_type": "stream",
     "text": [
      "{http://www.tei-c.org/ns/1.0}\n"
     ]
    }
   ],
   "source": [
    "pre = \"{http://www.tei-c.org/ns/1.0}\"\n",
    "print(pre)"
   ]
  },
  {
   "cell_type": "code",
   "execution_count": 5,
   "metadata": {},
   "outputs": [
    {
     "name": "stdout",
     "output_type": "stream",
     "text": [
      "gevoechte male al \n",
      "al te \n",
      "fier \n",
      "si iet \n",
      "si wiselike \n"
     ]
    }
   ],
   "source": [
    "lines, curr_tag, curr_line = {}, '', ''\n",
    "\n",
    "for node in tree.iter():\n",
    "    \n",
    "    if node.tag == f'{pre}lb':\n",
    "        # flush:\n",
    "        if curr_line and curr_tag:\n",
    "            lines[curr_tag] = ' '.join(curr_line.split())\n",
    "            #print(lines[curr_tag])\n",
    "            curr_line = ''\n",
    "        \n",
    "        # reset:\n",
    "        try:\n",
    "            curr_tag = node.attrib['{http://www.w3.org/XML/1998/namespace}id']\n",
    "        except:\n",
    "            continue\n",
    "\n",
    "        if node.tail: #.tail --> contains the text that directly follows the element, up to the next element in the XML tree\n",
    "            curr_line += node.tail\n",
    "            print(node.tail) \n",
    "\n",
    "    else:\n",
    "        if not curr_tag:\n",
    "            continue\n",
    "            \n",
    "        if node.tag == f'{pre}l':\n",
    "            curr_line += ' '\n",
    "            \n",
    "        if node.tag == f'{pre}hi' and 'rend' in node.attrib and node.attrib['rend'] == 'superscript':\n",
    "            curr_line += '$'+node.text+'%'\n",
    "            if node.tail:\n",
    "                curr_line += node.tail\n",
    "            continue\n",
    "        \n",
    "        if node.tag == f'{pre}expan':\n",
    "            if node.tail:\n",
    "                curr_line += node.tail\n",
    "            continue\n",
    "            \n",
    "        if node.tag == f'{pre}g':\n",
    "            curr_line += node.attrib['ref']\n",
    "            \n",
    "        if node.text:\n",
    "            curr_line += node.text\n",
    "        \n",
    "        if node.tail:\n",
    "            curr_line += node.tail\n",
    "#print(lines, curr_tag, curr_line)\n"
   ]
  },
  {
   "cell_type": "code",
   "execution_count": 34,
   "metadata": {},
   "outputs": [],
   "source": [
    "import re\n",
    "\n",
    "def clean_line(line):\n",
    "    line = line.replace('e#bar', 'e̅')\n",
    "    line = line.replace('a#bar', 'a̅')\n",
    "    line = line.replace('#apomod', 'ʼ')\n",
    "    line = line.replace('#etfin', 'ꝫ')\n",
    "    return line    "
   ]
  },
  {
   "cell_type": "code",
   "execution_count": 28,
   "metadata": {},
   "outputs": [
    {
     "name": "stdout",
     "output_type": "stream",
     "text": [
      "HB.f1r.1 : Dit sij#bar dier liede woʼde va̅ galle̅\n",
      "HB.f1r.2 : Die gode die eweleke leue̅ : En#bar hare gifte̅ bi rede-\n",
      "HB.f1r.3 : ne̅ geue̅ : Als si ane liede wille̅ w$e%ke̅ : Hare mesdoen\n",
      "HB.f1r.4 : en#bar hare mesp$e%ke̅ : So geue̅ si hen een geval : En#bar hare\n",
      "HB.f1r.5 : gevoechte male al : O#bar dꝫ hen vʼlies en#bar scade̅ : Dꝫ hʼte\n",
      "HB.f1r.6 : al te swaʼre lade̅ : Selke̅ tijt als hen messciet : Al die\n",
      "HB.f1r.7 : wʼelt ne mochte n$t% : Dla̅t va̅ galle̅ bedʼue̅ : Wille he̅\n",
      "HB.f1r.8 : thʼte ouʼ een wʼue̅ : Die galle̅ sij#bar alle va̅ si#barne : Goet heet en#bar\n",
      "HB.f1r.9 : fier va̅ hare̅ begi#barne : Thant geloeue̅ si ere mare :\n",
      "HB.f1r.10 : Recht oft ware geproeft i#bart ware : Qualike moge̅\n",
      "HB.f1r.11 : si iet la̅ge : Jn pine̅ sij#bar en#bar i#bar bedwa̅ge : Me̅ vi#bart va̅ hen\n",
      "HB.f1r.12 : menege̅ groꝫ : Die hen selue̅ eer slae̅ te doot : Dan\n"
     ]
    }
   ],
   "source": [
    "for k, v in lines.items():\n",
    "    v = clean_line(v)\n",
    "    lines[k] = v\n",
    "    print(k, ':', v)"
   ]
  },
  {
   "cell_type": "code",
   "execution_count": null,
   "metadata": {},
   "outputs": [],
   "source": []
  },
  {
   "cell_type": "code",
   "execution_count": 6,
   "metadata": {},
   "outputs": [],
   "source": []
  },
  {
   "cell_type": "code",
   "execution_count": 20,
   "metadata": {},
   "outputs": [],
   "source": []
  },
  {
   "cell_type": "code",
   "execution_count": 27,
   "metadata": {},
   "outputs": [
    {
     "name": "stdout",
     "output_type": "stream",
     "text": [
      "WARNING:root:scikit-learn version 0.23.1 is not supported. Minimum required version: 0.17. Maximum required version: 0.19.2. Disabling scikit-learn conversion API.\n",
      "WARNING:root:TensorFlow version 1.15.5 detected. Last version known to be fully compatible is 1.15.0 .\n",
      "Usage: kraken ocr [OPTIONS]\n",
      "\n",
      "Error: Invalid value: No model en-default.mlmodel for default found\n"
     ]
    }
   ],
   "source": []
  },
  {
   "cell_type": "code",
   "execution_count": null,
   "metadata": {},
   "outputs": [],
   "source": []
  }
 ],
 "metadata": {
  "kernelspec": {
   "display_name": "Python 3.6",
   "language": "python",
   "name": "py36"
  },
  "language_info": {
   "codemirror_mode": {
    "name": "ipython",
    "version": 3
   },
   "file_extension": ".py",
   "mimetype": "text/x-python",
   "name": "python",
   "nbconvert_exporter": "python",
   "pygments_lexer": "ipython3",
   "version": "3.6.10"
  }
 },
 "nbformat": 4,
 "nbformat_minor": 4
}
