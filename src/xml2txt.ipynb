{
 "cells": [
  {
   "cell_type": "code",
   "execution_count": 38,
   "metadata": {},
   "outputs": [],
   "source": [
    "from lxml import etree\n",
    "import re"
   ]
  },
  {
   "cell_type": "code",
   "execution_count": 48,
   "metadata": {},
   "outputs": [],
   "source": [
    "# saving edited xml as tmp.xml\n",
    "\n",
    "with open('../data/xml-transcriptions/Brussels_KBR_MS 2878-79_Hadewijch_Letters_MSB.xml') as f:\n",
    "    text = f.read()\n",
    "\n",
    "#text = text.replace('<choice>', '')\n",
    "#text = text.replace('</choice>', '')\n",
    "\n",
    "with open('tmp.xml', 'w') as f:\n",
    "    f.write(text)"
   ]
  },
  {
   "cell_type": "code",
   "execution_count": 49,
   "metadata": {},
   "outputs": [],
   "source": [
    "tree = etree.parse('tmp.xml')\n",
    "\n",
    "NSMAP = {'MVN': 'http://www.tei-c.org/ns/1.0'}\n",
    "\n",
    "removes = ('teiHeader', 'fw', 'supplied', 'ex', 'expan') \n",
    "\n",
    "\n",
    "# JS: the problem with using the remove() method is, that it kills also the tail!\n",
    "#for rm in removes:\n",
    "#    for bad in tree.xpath(f'//MVN:{rm}', namespaces=NSMAP):\n",
    "#        bad.getparent().remove(bad)\n",
    "#        \n",
    "#for bad in tree.xpath(\"//MVN:head[@type=\\'assigned\\']\", namespaces=NSMAP):\n",
    "#    bad.getparent().remove(bad)\n",
    "\n",
    "# JS: instead try something like this:\n",
    "etree.strip_elements(tree, (\"{\"+ NSMAP[\"MVN\"]+ \"}\" + s for s in removes), with_tail=False)\n",
    "\n",
    "# JS: if you print this, you see the elements are gone while their tails remain. \n",
    "#print (etree.tostring(tree, pretty_print=True))"
   ]
  },
  {
   "cell_type": "code",
   "execution_count": 50,
   "metadata": {},
   "outputs": [],
   "source": [
    "pre = \"{http://www.tei-c.org/ns/1.0}\""
   ]
  },
  {
   "cell_type": "code",
   "execution_count": 51,
   "metadata": {},
   "outputs": [],
   "source": [
    "\n",
    "chars = ['a', 'b', 'c', 'd', 'e', 'f', 'g', 'h', 'i', 'j', \n",
    "         'k', 'l','m', 'n', 'o', 'p', 'q', 'r', 's', 't', \n",
    "         'u', 'v', 'w', 'x', 'y', 'z']\n",
    "\n",
    "text = \"\"\n",
    "\n",
    "folia = []\n",
    "\n",
    "# the iterwalk() method is nicer than iter() because you can\n",
    "# control what happens at the start of processing a node\n",
    "# and at the end. By this you can say: only attach the tail AFTER all the \n",
    "# child nodes have been processed\n",
    "\n",
    "context = etree.iterwalk(tree, events=(\"start\", \"end\"))\n",
    "for action, node in context:\n",
    "    \n",
    "    # remove ns for easier access\n",
    "    tag_only = node.tag.replace(\"{http://www.tei-c.org/ns/1.0}\",\"\")\n",
    "    \n",
    "    # if a new pb (standalone element) is processed:\n",
    "    if action == 'start' and tag_only == 'pb':\n",
    "        #..close file if open already (always true except for first page)\n",
    "        if f:\n",
    "            f.close() \n",
    "        #..open new file to write in\n",
    "        \n",
    "        f = open(f'../data/txt-transcriptions/{node.attrib[\"n\"]}.txt', 'w', encoding=\"utf-8\")\n",
    "        #f.write(f\"\\n[page: %{node.attrib['n']}]\\n\")\n",
    "        #text += f\"\\n[page: %{node.attrib['n']}]\\n\"\n",
    "        \n",
    "        folia.append(node.attrib[\"n\"])\n",
    "        \n",
    "    # if new lb (standalone) is processed:\n",
    "    elif action == 'start' and tag_only == 'lb':\n",
    "        continue\n",
    "        #f.write(\"\\n\")\n",
    "        #text += \"\\n\"\n",
    "\n",
    "    # list elements which you want to iterate through. this is not really neccessary.\n",
    "    elif tag_only in (\"group\",\"text\",\"MVN\",\"body\",\"cb\",\"p\"):\n",
    "        continue\n",
    "        \n",
    "    # for all other elements, distinguish between the start-event of the processing and\n",
    "    # and the end-event. Attach the tail AFTER the child nodes were processed (=end-event) \n",
    "    \n",
    "    elif action == 'start':\n",
    "        # comment the following two lines out to not get the element markers\n",
    "        #f.write(f\"[{tag_only}]\") \n",
    "        #text += f\"[{tag_only}]\"\n",
    "        \n",
    "        ############################################################################\n",
    "        ########## filter out special characters, bars,                   ##########\n",
    "        ########## superscript, or specific tags.                         ##########\n",
    "        ############################################################################\n",
    "        \n",
    "        # if a special glyph is present, encode it accordingly\n",
    "        if tag_only == 'g':\n",
    "            \n",
    "            if node.attrib['ref'] == '#bar': # a̅, b̅, c̅, d̅, e̅, etc.\n",
    "                f.write(u'\\u0305')\n",
    "                text += u'\\u0305'\n",
    "                \n",
    "            elif node.attrib['ref'] == '#apomod': # ʼ\n",
    "                f.write(u'\\u02bc')\n",
    "                text += u'\\u02bc'\n",
    "            \n",
    "            elif node.attrib['ref'] == '#usmod': # ꝰ\n",
    "                f.write(u'\\ua770')\n",
    "                text += u'\\ua770'\n",
    "            \n",
    "            elif node.attrib['ref'] == '#condes': # ꝯ\n",
    "                f.write(u'\\ua76f')\n",
    "                text += u'\\ua76f'\n",
    "\n",
    "            elif node.attrib['ref'] == '#para': # ¶\n",
    "                f.write(u'\\xb6')\n",
    "                text += u'\\xb6'\n",
    "\n",
    "            elif node.attrib['ref'] == '#etfin': # ꝫ\n",
    "                f.write(u'\\ua76b')\n",
    "                text += u'\\ua76b'\n",
    "\n",
    "            elif node.attrib['ref'] == '#pbardes': # ꝑ\n",
    "                f.write(u'\\ua751')\n",
    "                text += u'\\ua751'\n",
    "\n",
    "            elif node.attrib['ref'] == '#pbardes': # ꝕ\n",
    "                f.write(u'\\ua755')\n",
    "                text += u'\\ua755'\n",
    "            \n",
    "            elif node.attrib['ref'] == '#pflour': # ꝓ\n",
    "                f.write(u'\\ua753')\n",
    "                text += u'\\ua753'\n",
    "            \n",
    "            else:\n",
    "                f.write(node.attrib['ref']) # get the actual ref if there still are any left\n",
    "                text += node.attrib['ref']\n",
    "                \n",
    "        # encode superscript letters\n",
    "        superscript_dict = {'a':'ᵃ', 'b':'ᵇ', 'c':'ᶜ', 'd':'ᵈ', 'e':'ᵉ', 'f':'ᶠ',\n",
    "                           'g':'ᵍ', 'h':'ʰ', 'i':'ᶦ', 'j':'ʲ', 'k':'ᵏ', 'l':'ˡ', \n",
    "                            'm':'ᵐ', 'n':'ⁿ', 'o':'ᵒ', 'p':'ᵖ', 'r':'ʳ', 's':'ˢ', \n",
    "                            't':'ᵗ', 'u':'ᵘ', 'v':'ᵛ', 'w':'ʷ', 'x':'ˣ', 'y': 'ʸ', 'z': 'ᶻ'}\n",
    "        \n",
    "        if tag_only == 'hi' and 'rend' in node.attrib and node.attrib['rend'] == 'superscript':\n",
    "            if node.text in superscript_dict:\n",
    "                f.write(superscript_dict[node.text])\n",
    "                text += superscript_dict[node.text]\n",
    "                \n",
    "        # encode punctuation marks\n",
    "        elif tag_only == 'pc':\n",
    "            f.write(node.text)\n",
    "            text += (node.text)\n",
    "            \n",
    "        # encode roman numerals\n",
    "        elif tag_only == 'num':\n",
    "            if node.text:\n",
    "                f.write('.'+node.text+'.')\n",
    "                text += ('.'+node.text+'.')\n",
    "            \n",
    "        # if there is still a node with text in it\n",
    "        elif (node.text):\n",
    "            f.write(node.text)\n",
    "            text += node.text\n",
    "            \n",
    "    # after the child elements\n",
    "    elif action == 'end':\n",
    "        # if there is a tail\n",
    "        if (node.tail and node.tail not in \"\\t\"):\n",
    "            # comment the folowing two lines out to not get the tail marker\n",
    "            #text += \"[tail]\"\n",
    "            #f.write(\"[tail]\")\n",
    "            # write the tail text into the file & append to text-concatenation\n",
    "            text += node.tail\n",
    "            f.write(node.tail)\n",
    "f.close()\n",
    "        \n",
    "#print(text)"
   ]
  },
  {
   "cell_type": "code",
   "execution_count": 32,
   "metadata": {},
   "outputs": [
    {
     "name": "stdout",
     "output_type": "stream",
     "text": [
      "ꝓ\n"
     ]
    }
   ],
   "source": [
    "print(u'\\ua753')"
   ]
  },
  {
   "cell_type": "code",
   "execution_count": 31,
   "metadata": {},
   "outputs": [
    {
     "name": "stdout",
     "output_type": "stream",
     "text": [
      "ꝕ\n"
     ]
    }
   ],
   "source": [
    "print(u'\\ua755')"
   ]
  },
  {
   "cell_type": "code",
   "execution_count": null,
   "metadata": {},
   "outputs": [],
   "source": []
  }
 ],
 "metadata": {
  "kernelspec": {
   "display_name": "Python 3",
   "language": "python",
   "name": "python3"
  },
  "language_info": {
   "codemirror_mode": {
    "name": "ipython",
    "version": 3
   },
   "file_extension": ".py",
   "mimetype": "text/x-python",
   "name": "python",
   "nbconvert_exporter": "python",
   "pygments_lexer": "ipython3",
   "version": "3.8.5"
  }
 },
 "nbformat": 4,
 "nbformat_minor": 4
}
